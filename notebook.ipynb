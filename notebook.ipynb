{
  "nbformat": 4,
  "nbformat_minor": 0,
  "metadata": {
    "colab": {
      "name": "Untitled1.ipynb",
      "provenance": [],
      "collapsed_sections": [],
      "authorship_tag": "ABX9TyPQNbGpRBKLa68Rk9Xv9CVB",
      "include_colab_link": true
    },
    "kernelspec": {
      "name": "python3",
      "display_name": "Python 3"
    },
    "accelerator": "GPU"
  },
  "cells": [
    {
      "cell_type": "markdown",
      "metadata": {
        "id": "view-in-github",
        "colab_type": "text"
      },
      "source": [
        "<a href=\"https://colab.research.google.com/github/RAJAGOPALAN-GANGADHARAN/Fashion_MNIST/blob/master/notebook.ipynb\" target=\"_parent\"><img src=\"https://colab.research.google.com/assets/colab-badge.svg\" alt=\"Open In Colab\"/></a>"
      ]
    },
    {
      "cell_type": "code",
      "metadata": {
        "id": "2IDN9_dixnGd",
        "colab_type": "code",
        "colab": {
          "base_uri": "https://localhost:8080/",
          "height": 470
        },
        "outputId": "84e37e63-e79e-4dc4-ae18-ea39da1c83e5"
      },
      "source": [
        "!pip install -U tensorflow_datasets"
      ],
      "execution_count": 1,
      "outputs": [
        {
          "output_type": "stream",
          "text": [
            "Collecting tensorflow_datasets\n",
            "\u001b[?25l  Downloading https://files.pythonhosted.org/packages/bd/99/996b15ff5d11166c3516012838f569f78d57b71d4aac051caea826f6c7e0/tensorflow_datasets-3.1.0-py3-none-any.whl (3.3MB)\n",
            "\r\u001b[K     |                                | 10kB 21.1MB/s eta 0:00:01\r\u001b[K     |▏                               | 20kB 3.9MB/s eta 0:00:01\r\u001b[K     |▎                               | 30kB 5.5MB/s eta 0:00:01\r\u001b[K     |▍                               | 40kB 7.1MB/s eta 0:00:01\r\u001b[K     |▌                               | 51kB 4.6MB/s eta 0:00:01\r\u001b[K     |▋                               | 61kB 5.4MB/s eta 0:00:01\r\u001b[K     |▊                               | 71kB 6.2MB/s eta 0:00:01\r\u001b[K     |▉                               | 81kB 6.8MB/s eta 0:00:01\r\u001b[K     |█                               | 92kB 5.5MB/s eta 0:00:01\r\u001b[K     |█                               | 102kB 6.0MB/s eta 0:00:01\r\u001b[K     |█                               | 112kB 6.0MB/s eta 0:00:01\r\u001b[K     |█▏                              | 122kB 6.0MB/s eta 0:00:01\r\u001b[K     |█▎                              | 133kB 6.0MB/s eta 0:00:01\r\u001b[K     |█▍                              | 143kB 6.0MB/s eta 0:00:01\r\u001b[K     |█▌                              | 153kB 6.0MB/s eta 0:00:01\r\u001b[K     |█▋                              | 163kB 6.0MB/s eta 0:00:01\r\u001b[K     |█▊                              | 174kB 6.0MB/s eta 0:00:01\r\u001b[K     |█▉                              | 184kB 6.0MB/s eta 0:00:01\r\u001b[K     |█▉                              | 194kB 6.0MB/s eta 0:00:01\r\u001b[K     |██                              | 204kB 6.0MB/s eta 0:00:01\r\u001b[K     |██                              | 215kB 6.0MB/s eta 0:00:01\r\u001b[K     |██▏                             | 225kB 6.0MB/s eta 0:00:01\r\u001b[K     |██▎                             | 235kB 6.0MB/s eta 0:00:01\r\u001b[K     |██▍                             | 245kB 6.0MB/s eta 0:00:01\r\u001b[K     |██▌                             | 256kB 6.0MB/s eta 0:00:01\r\u001b[K     |██▋                             | 266kB 6.0MB/s eta 0:00:01\r\u001b[K     |██▊                             | 276kB 6.0MB/s eta 0:00:01\r\u001b[K     |██▉                             | 286kB 6.0MB/s eta 0:00:01\r\u001b[K     |██▉                             | 296kB 6.0MB/s eta 0:00:01\r\u001b[K     |███                             | 307kB 6.0MB/s eta 0:00:01\r\u001b[K     |███                             | 317kB 6.0MB/s eta 0:00:01\r\u001b[K     |███▏                            | 327kB 6.0MB/s eta 0:00:01\r\u001b[K     |███▎                            | 337kB 6.0MB/s eta 0:00:01\r\u001b[K     |███▍                            | 348kB 6.0MB/s eta 0:00:01\r\u001b[K     |███▌                            | 358kB 6.0MB/s eta 0:00:01\r\u001b[K     |███▋                            | 368kB 6.0MB/s eta 0:00:01\r\u001b[K     |███▊                            | 378kB 6.0MB/s eta 0:00:01\r\u001b[K     |███▊                            | 389kB 6.0MB/s eta 0:00:01\r\u001b[K     |███▉                            | 399kB 6.0MB/s eta 0:00:01\r\u001b[K     |████                            | 409kB 6.0MB/s eta 0:00:01\r\u001b[K     |████                            | 419kB 6.0MB/s eta 0:00:01\r\u001b[K     |████▏                           | 430kB 6.0MB/s eta 0:00:01\r\u001b[K     |████▎                           | 440kB 6.0MB/s eta 0:00:01\r\u001b[K     |████▍                           | 450kB 6.0MB/s eta 0:00:01\r\u001b[K     |████▌                           | 460kB 6.0MB/s eta 0:00:01\r\u001b[K     |████▋                           | 471kB 6.0MB/s eta 0:00:01\r\u001b[K     |████▊                           | 481kB 6.0MB/s eta 0:00:01\r\u001b[K     |████▊                           | 491kB 6.0MB/s eta 0:00:01\r\u001b[K     |████▉                           | 501kB 6.0MB/s eta 0:00:01\r\u001b[K     |█████                           | 512kB 6.0MB/s eta 0:00:01\r\u001b[K     |█████                           | 522kB 6.0MB/s eta 0:00:01\r\u001b[K     |█████▏                          | 532kB 6.0MB/s eta 0:00:01\r\u001b[K     |█████▎                          | 542kB 6.0MB/s eta 0:00:01\r\u001b[K     |█████▍                          | 552kB 6.0MB/s eta 0:00:01\r\u001b[K     |█████▌                          | 563kB 6.0MB/s eta 0:00:01\r\u001b[K     |█████▋                          | 573kB 6.0MB/s eta 0:00:01\r\u001b[K     |█████▋                          | 583kB 6.0MB/s eta 0:00:01\r\u001b[K     |█████▊                          | 593kB 6.0MB/s eta 0:00:01\r\u001b[K     |█████▉                          | 604kB 6.0MB/s eta 0:00:01\r\u001b[K     |██████                          | 614kB 6.0MB/s eta 0:00:01\r\u001b[K     |██████                          | 624kB 6.0MB/s eta 0:00:01\r\u001b[K     |██████▏                         | 634kB 6.0MB/s eta 0:00:01\r\u001b[K     |██████▎                         | 645kB 6.0MB/s eta 0:00:01\r\u001b[K     |██████▍                         | 655kB 6.0MB/s eta 0:00:01\r\u001b[K     |██████▌                         | 665kB 6.0MB/s eta 0:00:01\r\u001b[K     |██████▋                         | 675kB 6.0MB/s eta 0:00:01\r\u001b[K     |██████▋                         | 686kB 6.0MB/s eta 0:00:01\r\u001b[K     |██████▊                         | 696kB 6.0MB/s eta 0:00:01\r\u001b[K     |██████▉                         | 706kB 6.0MB/s eta 0:00:01\r\u001b[K     |███████                         | 716kB 6.0MB/s eta 0:00:01\r\u001b[K     |███████                         | 727kB 6.0MB/s eta 0:00:01\r\u001b[K     |███████▏                        | 737kB 6.0MB/s eta 0:00:01\r\u001b[K     |███████▎                        | 747kB 6.0MB/s eta 0:00:01\r\u001b[K     |███████▍                        | 757kB 6.0MB/s eta 0:00:01\r\u001b[K     |███████▌                        | 768kB 6.0MB/s eta 0:00:01\r\u001b[K     |███████▌                        | 778kB 6.0MB/s eta 0:00:01\r\u001b[K     |███████▋                        | 788kB 6.0MB/s eta 0:00:01\r\u001b[K     |███████▊                        | 798kB 6.0MB/s eta 0:00:01\r\u001b[K     |███████▉                        | 808kB 6.0MB/s eta 0:00:01\r\u001b[K     |████████                        | 819kB 6.0MB/s eta 0:00:01\r\u001b[K     |████████                        | 829kB 6.0MB/s eta 0:00:01\r\u001b[K     |████████▏                       | 839kB 6.0MB/s eta 0:00:01\r\u001b[K     |████████▎                       | 849kB 6.0MB/s eta 0:00:01\r\u001b[K     |████████▍                       | 860kB 6.0MB/s eta 0:00:01\r\u001b[K     |████████▌                       | 870kB 6.0MB/s eta 0:00:01\r\u001b[K     |████████▌                       | 880kB 6.0MB/s eta 0:00:01\r\u001b[K     |████████▋                       | 890kB 6.0MB/s eta 0:00:01\r\u001b[K     |████████▊                       | 901kB 6.0MB/s eta 0:00:01\r\u001b[K     |████████▉                       | 911kB 6.0MB/s eta 0:00:01\r\u001b[K     |█████████                       | 921kB 6.0MB/s eta 0:00:01\r\u001b[K     |█████████                       | 931kB 6.0MB/s eta 0:00:01\r\u001b[K     |█████████▏                      | 942kB 6.0MB/s eta 0:00:01\r\u001b[K     |█████████▎                      | 952kB 6.0MB/s eta 0:00:01\r\u001b[K     |█████████▍                      | 962kB 6.0MB/s eta 0:00:01\r\u001b[K     |█████████▍                      | 972kB 6.0MB/s eta 0:00:01\r\u001b[K     |█████████▌                      | 983kB 6.0MB/s eta 0:00:01\r\u001b[K     |█████████▋                      | 993kB 6.0MB/s eta 0:00:01\r\u001b[K     |█████████▊                      | 1.0MB 6.0MB/s eta 0:00:01\r\u001b[K     |█████████▉                      | 1.0MB 6.0MB/s eta 0:00:01\r\u001b[K     |██████████                      | 1.0MB 6.0MB/s eta 0:00:01\r\u001b[K     |██████████                      | 1.0MB 6.0MB/s eta 0:00:01\r\u001b[K     |██████████▏                     | 1.0MB 6.0MB/s eta 0:00:01\r\u001b[K     |██████████▎                     | 1.1MB 6.0MB/s eta 0:00:01\r\u001b[K     |██████████▍                     | 1.1MB 6.0MB/s eta 0:00:01\r\u001b[K     |██████████▍                     | 1.1MB 6.0MB/s eta 0:00:01\r\u001b[K     |██████████▌                     | 1.1MB 6.0MB/s eta 0:00:01\r\u001b[K     |██████████▋                     | 1.1MB 6.0MB/s eta 0:00:01\r\u001b[K     |██████████▊                     | 1.1MB 6.0MB/s eta 0:00:01\r\u001b[K     |██████████▉                     | 1.1MB 6.0MB/s eta 0:00:01\r\u001b[K     |███████████                     | 1.1MB 6.0MB/s eta 0:00:01\r\u001b[K     |███████████                     | 1.1MB 6.0MB/s eta 0:00:01\r\u001b[K     |███████████▏                    | 1.1MB 6.0MB/s eta 0:00:01\r\u001b[K     |███████████▎                    | 1.2MB 6.0MB/s eta 0:00:01\r\u001b[K     |███████████▎                    | 1.2MB 6.0MB/s eta 0:00:01\r\u001b[K     |███████████▍                    | 1.2MB 6.0MB/s eta 0:00:01\r\u001b[K     |███████████▌                    | 1.2MB 6.0MB/s eta 0:00:01\r\u001b[K     |███████████▋                    | 1.2MB 6.0MB/s eta 0:00:01\r\u001b[K     |███████████▊                    | 1.2MB 6.0MB/s eta 0:00:01\r\u001b[K     |███████████▉                    | 1.2MB 6.0MB/s eta 0:00:01\r\u001b[K     |████████████                    | 1.2MB 6.0MB/s eta 0:00:01\r\u001b[K     |████████████                    | 1.2MB 6.0MB/s eta 0:00:01\r\u001b[K     |████████████▏                   | 1.2MB 6.0MB/s eta 0:00:01\r\u001b[K     |████████████▎                   | 1.3MB 6.0MB/s eta 0:00:01\r\u001b[K     |████████████▎                   | 1.3MB 6.0MB/s eta 0:00:01\r\u001b[K     |████████████▍                   | 1.3MB 6.0MB/s eta 0:00:01\r\u001b[K     |████████████▌                   | 1.3MB 6.0MB/s eta 0:00:01\r\u001b[K     |████████████▋                   | 1.3MB 6.0MB/s eta 0:00:01\r\u001b[K     |████████████▊                   | 1.3MB 6.0MB/s eta 0:00:01\r\u001b[K     |████████████▉                   | 1.3MB 6.0MB/s eta 0:00:01\r\u001b[K     |█████████████                   | 1.3MB 6.0MB/s eta 0:00:01\r\u001b[K     |█████████████                   | 1.3MB 6.0MB/s eta 0:00:01\r\u001b[K     |█████████████▏                  | 1.4MB 6.0MB/s eta 0:00:01\r\u001b[K     |█████████████▏                  | 1.4MB 6.0MB/s eta 0:00:01\r\u001b[K     |█████████████▎                  | 1.4MB 6.0MB/s eta 0:00:01\r\u001b[K     |█████████████▍                  | 1.4MB 6.0MB/s eta 0:00:01\r\u001b[K     |█████████████▌                  | 1.4MB 6.0MB/s eta 0:00:01\r\u001b[K     |█████████████▋                  | 1.4MB 6.0MB/s eta 0:00:01\r\u001b[K     |█████████████▊                  | 1.4MB 6.0MB/s eta 0:00:01\r\u001b[K     |█████████████▉                  | 1.4MB 6.0MB/s eta 0:00:01\r\u001b[K     |██████████████                  | 1.4MB 6.0MB/s eta 0:00:01\r\u001b[K     |██████████████                  | 1.4MB 6.0MB/s eta 0:00:01\r\u001b[K     |██████████████▏                 | 1.5MB 6.0MB/s eta 0:00:01\r\u001b[K     |██████████████▏                 | 1.5MB 6.0MB/s eta 0:00:01\r\u001b[K     |██████████████▎                 | 1.5MB 6.0MB/s eta 0:00:01\r\u001b[K     |██████████████▍                 | 1.5MB 6.0MB/s eta 0:00:01\r\u001b[K     |██████████████▌                 | 1.5MB 6.0MB/s eta 0:00:01\r\u001b[K     |██████████████▋                 | 1.5MB 6.0MB/s eta 0:00:01\r\u001b[K     |██████████████▊                 | 1.5MB 6.0MB/s eta 0:00:01\r\u001b[K     |██████████████▉                 | 1.5MB 6.0MB/s eta 0:00:01\r\u001b[K     |███████████████                 | 1.5MB 6.0MB/s eta 0:00:01\r\u001b[K     |███████████████                 | 1.5MB 6.0MB/s eta 0:00:01\r\u001b[K     |███████████████                 | 1.6MB 6.0MB/s eta 0:00:01\r\u001b[K     |███████████████▏                | 1.6MB 6.0MB/s eta 0:00:01\r\u001b[K     |███████████████▎                | 1.6MB 6.0MB/s eta 0:00:01\r\u001b[K     |███████████████▍                | 1.6MB 6.0MB/s eta 0:00:01\r\u001b[K     |███████████████▌                | 1.6MB 6.0MB/s eta 0:00:01\r\u001b[K     |███████████████▋                | 1.6MB 6.0MB/s eta 0:00:01\r\u001b[K     |███████████████▊                | 1.6MB 6.0MB/s eta 0:00:01\r\u001b[K     |███████████████▉                | 1.6MB 6.0MB/s eta 0:00:01\r\u001b[K     |████████████████                | 1.6MB 6.0MB/s eta 0:00:01\r\u001b[K     |████████████████                | 1.6MB 6.0MB/s eta 0:00:01\r\u001b[K     |████████████████                | 1.7MB 6.0MB/s eta 0:00:01\r\u001b[K     |████████████████▏               | 1.7MB 6.0MB/s eta 0:00:01\r\u001b[K     |████████████████▎               | 1.7MB 6.0MB/s eta 0:00:01\r\u001b[K     |████████████████▍               | 1.7MB 6.0MB/s eta 0:00:01\r\u001b[K     |████████████████▌               | 1.7MB 6.0MB/s eta 0:00:01\r\u001b[K     |████████████████▋               | 1.7MB 6.0MB/s eta 0:00:01\r\u001b[K     |████████████████▊               | 1.7MB 6.0MB/s eta 0:00:01\r\u001b[K     |████████████████▉               | 1.7MB 6.0MB/s eta 0:00:01\r\u001b[K     |█████████████████               | 1.7MB 6.0MB/s eta 0:00:01\r\u001b[K     |█████████████████               | 1.8MB 6.0MB/s eta 0:00:01\r\u001b[K     |█████████████████               | 1.8MB 6.0MB/s eta 0:00:01\r\u001b[K     |█████████████████▏              | 1.8MB 6.0MB/s eta 0:00:01\r\u001b[K     |█████████████████▎              | 1.8MB 6.0MB/s eta 0:00:01\r\u001b[K     |█████████████████▍              | 1.8MB 6.0MB/s eta 0:00:01\r\u001b[K     |█████████████████▌              | 1.8MB 6.0MB/s eta 0:00:01\r\u001b[K     |█████████████████▋              | 1.8MB 6.0MB/s eta 0:00:01\r\u001b[K     |█████████████████▊              | 1.8MB 6.0MB/s eta 0:00:01\r\u001b[K     |█████████████████▉              | 1.8MB 6.0MB/s eta 0:00:01\r\u001b[K     |██████████████████              | 1.8MB 6.0MB/s eta 0:00:01\r\u001b[K     |██████████████████              | 1.9MB 6.0MB/s eta 0:00:01\r\u001b[K     |██████████████████              | 1.9MB 6.0MB/s eta 0:00:01\r\u001b[K     |██████████████████▏             | 1.9MB 6.0MB/s eta 0:00:01\r\u001b[K     |██████████████████▎             | 1.9MB 6.0MB/s eta 0:00:01\r\u001b[K     |██████████████████▍             | 1.9MB 6.0MB/s eta 0:00:01\r\u001b[K     |██████████████████▌             | 1.9MB 6.0MB/s eta 0:00:01\r\u001b[K     |██████████████████▋             | 1.9MB 6.0MB/s eta 0:00:01\r\u001b[K     |██████████████████▊             | 1.9MB 6.0MB/s eta 0:00:01\r\u001b[K     |██████████████████▉             | 1.9MB 6.0MB/s eta 0:00:01\r\u001b[K     |██████████████████▉             | 1.9MB 6.0MB/s eta 0:00:01\r\u001b[K     |███████████████████             | 2.0MB 6.0MB/s eta 0:00:01\r\u001b[K     |███████████████████             | 2.0MB 6.0MB/s eta 0:00:01\r\u001b[K     |███████████████████▏            | 2.0MB 6.0MB/s eta 0:00:01\r\u001b[K     |███████████████████▎            | 2.0MB 6.0MB/s eta 0:00:01\r\u001b[K     |███████████████████▍            | 2.0MB 6.0MB/s eta 0:00:01\r\u001b[K     |███████████████████▌            | 2.0MB 6.0MB/s eta 0:00:01\r\u001b[K     |███████████████████▋            | 2.0MB 6.0MB/s eta 0:00:01\r\u001b[K     |███████████████████▊            | 2.0MB 6.0MB/s eta 0:00:01\r\u001b[K     |███████████████████▉            | 2.0MB 6.0MB/s eta 0:00:01\r\u001b[K     |███████████████████▉            | 2.0MB 6.0MB/s eta 0:00:01\r\u001b[K     |████████████████████            | 2.1MB 6.0MB/s eta 0:00:01\r\u001b[K     |████████████████████            | 2.1MB 6.0MB/s eta 0:00:01\r\u001b[K     |████████████████████▏           | 2.1MB 6.0MB/s eta 0:00:01\r\u001b[K     |████████████████████▎           | 2.1MB 6.0MB/s eta 0:00:01\r\u001b[K     |████████████████████▍           | 2.1MB 6.0MB/s eta 0:00:01\r\u001b[K     |████████████████████▌           | 2.1MB 6.0MB/s eta 0:00:01\r\u001b[K     |████████████████████▋           | 2.1MB 6.0MB/s eta 0:00:01\r\u001b[K     |████████████████████▊           | 2.1MB 6.0MB/s eta 0:00:01\r\u001b[K     |████████████████████▊           | 2.1MB 6.0MB/s eta 0:00:01\r\u001b[K     |████████████████████▉           | 2.2MB 6.0MB/s eta 0:00:01\r\u001b[K     |█████████████████████           | 2.2MB 6.0MB/s eta 0:00:01\r\u001b[K     |█████████████████████           | 2.2MB 6.0MB/s eta 0:00:01\r\u001b[K     |█████████████████████▏          | 2.2MB 6.0MB/s eta 0:00:01\r\u001b[K     |█████████████████████▎          | 2.2MB 6.0MB/s eta 0:00:01\r\u001b[K     |█████████████████████▍          | 2.2MB 6.0MB/s eta 0:00:01\r\u001b[K     |█████████████████████▌          | 2.2MB 6.0MB/s eta 0:00:01\r\u001b[K     |█████████████████████▋          | 2.2MB 6.0MB/s eta 0:00:01\r\u001b[K     |█████████████████████▊          | 2.2MB 6.0MB/s eta 0:00:01\r\u001b[K     |█████████████████████▊          | 2.2MB 6.0MB/s eta 0:00:01\r\u001b[K     |█████████████████████▉          | 2.3MB 6.0MB/s eta 0:00:01\r\u001b[K     |██████████████████████          | 2.3MB 6.0MB/s eta 0:00:01\r\u001b[K     |██████████████████████          | 2.3MB 6.0MB/s eta 0:00:01\r\u001b[K     |██████████████████████▏         | 2.3MB 6.0MB/s eta 0:00:01\r\u001b[K     |██████████████████████▎         | 2.3MB 6.0MB/s eta 0:00:01\r\u001b[K     |██████████████████████▍         | 2.3MB 6.0MB/s eta 0:00:01\r\u001b[K     |██████████████████████▌         | 2.3MB 6.0MB/s eta 0:00:01\r\u001b[K     |██████████████████████▋         | 2.3MB 6.0MB/s eta 0:00:01\r\u001b[K     |██████████████████████▋         | 2.3MB 6.0MB/s eta 0:00:01\r\u001b[K     |██████████████████████▊         | 2.3MB 6.0MB/s eta 0:00:01\r\u001b[K     |██████████████████████▉         | 2.4MB 6.0MB/s eta 0:00:01\r\u001b[K     |███████████████████████         | 2.4MB 6.0MB/s eta 0:00:01\r\u001b[K     |███████████████████████         | 2.4MB 6.0MB/s eta 0:00:01\r\u001b[K     |███████████████████████▏        | 2.4MB 6.0MB/s eta 0:00:01\r\u001b[K     |███████████████████████▎        | 2.4MB 6.0MB/s eta 0:00:01\r\u001b[K     |███████████████████████▍        | 2.4MB 6.0MB/s eta 0:00:01\r\u001b[K     |███████████████████████▌        | 2.4MB 6.0MB/s eta 0:00:01\r\u001b[K     |███████████████████████▋        | 2.4MB 6.0MB/s eta 0:00:01\r\u001b[K     |███████████████████████▋        | 2.4MB 6.0MB/s eta 0:00:01\r\u001b[K     |███████████████████████▊        | 2.4MB 6.0MB/s eta 0:00:01\r\u001b[K     |███████████████████████▉        | 2.5MB 6.0MB/s eta 0:00:01\r\u001b[K     |████████████████████████        | 2.5MB 6.0MB/s eta 0:00:01\r\u001b[K     |████████████████████████        | 2.5MB 6.0MB/s eta 0:00:01\r\u001b[K     |████████████████████████▏       | 2.5MB 6.0MB/s eta 0:00:01\r\u001b[K     |████████████████████████▎       | 2.5MB 6.0MB/s eta 0:00:01\r\u001b[K     |████████████████████████▍       | 2.5MB 6.0MB/s eta 0:00:01\r\u001b[K     |████████████████████████▌       | 2.5MB 6.0MB/s eta 0:00:01\r\u001b[K     |████████████████████████▌       | 2.5MB 6.0MB/s eta 0:00:01\r\u001b[K     |████████████████████████▋       | 2.5MB 6.0MB/s eta 0:00:01\r\u001b[K     |████████████████████████▊       | 2.5MB 6.0MB/s eta 0:00:01\r\u001b[K     |████████████████████████▉       | 2.6MB 6.0MB/s eta 0:00:01\r\u001b[K     |█████████████████████████       | 2.6MB 6.0MB/s eta 0:00:01\r\u001b[K     |█████████████████████████       | 2.6MB 6.0MB/s eta 0:00:01\r\u001b[K     |█████████████████████████▏      | 2.6MB 6.0MB/s eta 0:00:01\r\u001b[K     |█████████████████████████▎      | 2.6MB 6.0MB/s eta 0:00:01\r\u001b[K     |█████████████████████████▍      | 2.6MB 6.0MB/s eta 0:00:01\r\u001b[K     |█████████████████████████▌      | 2.6MB 6.0MB/s eta 0:00:01\r\u001b[K     |█████████████████████████▌      | 2.6MB 6.0MB/s eta 0:00:01\r\u001b[K     |█████████████████████████▋      | 2.6MB 6.0MB/s eta 0:00:01\r\u001b[K     |█████████████████████████▊      | 2.7MB 6.0MB/s eta 0:00:01\r\u001b[K     |█████████████████████████▉      | 2.7MB 6.0MB/s eta 0:00:01\r\u001b[K     |██████████████████████████      | 2.7MB 6.0MB/s eta 0:00:01\r\u001b[K     |██████████████████████████      | 2.7MB 6.0MB/s eta 0:00:01\r\u001b[K     |██████████████████████████▏     | 2.7MB 6.0MB/s eta 0:00:01\r\u001b[K     |██████████████████████████▎     | 2.7MB 6.0MB/s eta 0:00:01\r\u001b[K     |██████████████████████████▍     | 2.7MB 6.0MB/s eta 0:00:01\r\u001b[K     |██████████████████████████▍     | 2.7MB 6.0MB/s eta 0:00:01\r\u001b[K     |██████████████████████████▌     | 2.7MB 6.0MB/s eta 0:00:01\r\u001b[K     |██████████████████████████▋     | 2.7MB 6.0MB/s eta 0:00:01\r\u001b[K     |██████████████████████████▊     | 2.8MB 6.0MB/s eta 0:00:01\r\u001b[K     |██████████████████████████▉     | 2.8MB 6.0MB/s eta 0:00:01\r\u001b[K     |███████████████████████████     | 2.8MB 6.0MB/s eta 0:00:01\r\u001b[K     |███████████████████████████     | 2.8MB 6.0MB/s eta 0:00:01\r\u001b[K     |███████████████████████████▏    | 2.8MB 6.0MB/s eta 0:00:01\r\u001b[K     |███████████████████████████▎    | 2.8MB 6.0MB/s eta 0:00:01\r\u001b[K     |███████████████████████████▍    | 2.8MB 6.0MB/s eta 0:00:01\r\u001b[K     |███████████████████████████▍    | 2.8MB 6.0MB/s eta 0:00:01\r\u001b[K     |███████████████████████████▌    | 2.8MB 6.0MB/s eta 0:00:01\r\u001b[K     |███████████████████████████▋    | 2.8MB 6.0MB/s eta 0:00:01\r\u001b[K     |███████████████████████████▊    | 2.9MB 6.0MB/s eta 0:00:01\r\u001b[K     |███████████████████████████▉    | 2.9MB 6.0MB/s eta 0:00:01\r\u001b[K     |████████████████████████████    | 2.9MB 6.0MB/s eta 0:00:01\r\u001b[K     |████████████████████████████    | 2.9MB 6.0MB/s eta 0:00:01\r\u001b[K     |████████████████████████████▏   | 2.9MB 6.0MB/s eta 0:00:01\r\u001b[K     |████████████████████████████▎   | 2.9MB 6.0MB/s eta 0:00:01\r\u001b[K     |████████████████████████████▎   | 2.9MB 6.0MB/s eta 0:00:01\r\u001b[K     |████████████████████████████▍   | 2.9MB 6.0MB/s eta 0:00:01\r\u001b[K     |████████████████████████████▌   | 2.9MB 6.0MB/s eta 0:00:01\r\u001b[K     |████████████████████████████▋   | 2.9MB 6.0MB/s eta 0:00:01\r\u001b[K     |████████████████████████████▊   | 3.0MB 6.0MB/s eta 0:00:01\r\u001b[K     |████████████████████████████▉   | 3.0MB 6.0MB/s eta 0:00:01\r\u001b[K     |█████████████████████████████   | 3.0MB 6.0MB/s eta 0:00:01\r\u001b[K     |█████████████████████████████   | 3.0MB 6.0MB/s eta 0:00:01\r\u001b[K     |█████████████████████████████▏  | 3.0MB 6.0MB/s eta 0:00:01\r\u001b[K     |█████████████████████████████▎  | 3.0MB 6.0MB/s eta 0:00:01\r\u001b[K     |█████████████████████████████▎  | 3.0MB 6.0MB/s eta 0:00:01\r\u001b[K     |█████████████████████████████▍  | 3.0MB 6.0MB/s eta 0:00:01\r\u001b[K     |█████████████████████████████▌  | 3.0MB 6.0MB/s eta 0:00:01\r\u001b[K     |█████████████████████████████▋  | 3.1MB 6.0MB/s eta 0:00:01\r\u001b[K     |█████████████████████████████▊  | 3.1MB 6.0MB/s eta 0:00:01\r\u001b[K     |█████████████████████████████▉  | 3.1MB 6.0MB/s eta 0:00:01\r\u001b[K     |██████████████████████████████  | 3.1MB 6.0MB/s eta 0:00:01\r\u001b[K     |██████████████████████████████  | 3.1MB 6.0MB/s eta 0:00:01\r\u001b[K     |██████████████████████████████▏ | 3.1MB 6.0MB/s eta 0:00:01\r\u001b[K     |██████████████████████████████▏ | 3.1MB 6.0MB/s eta 0:00:01\r\u001b[K     |██████████████████████████████▎ | 3.1MB 6.0MB/s eta 0:00:01\r\u001b[K     |██████████████████████████████▍ | 3.1MB 6.0MB/s eta 0:00:01\r\u001b[K     |██████████████████████████████▌ | 3.1MB 6.0MB/s eta 0:00:01\r\u001b[K     |██████████████████████████████▋ | 3.2MB 6.0MB/s eta 0:00:01\r\u001b[K     |██████████████████████████████▊ | 3.2MB 6.0MB/s eta 0:00:01\r\u001b[K     |██████████████████████████████▉ | 3.2MB 6.0MB/s eta 0:00:01\r\u001b[K     |███████████████████████████████ | 3.2MB 6.0MB/s eta 0:00:01\r\u001b[K     |███████████████████████████████ | 3.2MB 6.0MB/s eta 0:00:01\r\u001b[K     |███████████████████████████████▏| 3.2MB 6.0MB/s eta 0:00:01\r\u001b[K     |███████████████████████████████▏| 3.2MB 6.0MB/s eta 0:00:01\r\u001b[K     |███████████████████████████████▎| 3.2MB 6.0MB/s eta 0:00:01\r\u001b[K     |███████████████████████████████▍| 3.2MB 6.0MB/s eta 0:00:01\r\u001b[K     |███████████████████████████████▌| 3.2MB 6.0MB/s eta 0:00:01\r\u001b[K     |███████████████████████████████▋| 3.3MB 6.0MB/s eta 0:00:01\r\u001b[K     |███████████████████████████████▊| 3.3MB 6.0MB/s eta 0:00:01\r\u001b[K     |███████████████████████████████▉| 3.3MB 6.0MB/s eta 0:00:01\r\u001b[K     |████████████████████████████████| 3.3MB 6.0MB/s eta 0:00:01\r\u001b[K     |████████████████████████████████| 3.3MB 6.0MB/s \n",
            "\u001b[?25hRequirement already satisfied, skipping upgrade: absl-py in /usr/local/lib/python3.6/dist-packages (from tensorflow_datasets) (0.9.0)\n",
            "Requirement already satisfied, skipping upgrade: future in /usr/local/lib/python3.6/dist-packages (from tensorflow_datasets) (0.16.0)\n",
            "Requirement already satisfied, skipping upgrade: six in /usr/local/lib/python3.6/dist-packages (from tensorflow_datasets) (1.12.0)\n",
            "Requirement already satisfied, skipping upgrade: tensorflow-metadata in /usr/local/lib/python3.6/dist-packages (from tensorflow_datasets) (0.21.2)\n",
            "Requirement already satisfied, skipping upgrade: tqdm in /usr/local/lib/python3.6/dist-packages (from tensorflow_datasets) (4.38.0)\n",
            "Requirement already satisfied, skipping upgrade: numpy in /usr/local/lib/python3.6/dist-packages (from tensorflow_datasets) (1.18.3)\n",
            "Requirement already satisfied, skipping upgrade: requests>=2.19.0 in /usr/local/lib/python3.6/dist-packages (from tensorflow_datasets) (2.21.0)\n",
            "Requirement already satisfied, skipping upgrade: wrapt in /usr/local/lib/python3.6/dist-packages (from tensorflow_datasets) (1.12.1)\n",
            "Requirement already satisfied, skipping upgrade: protobuf>=3.6.1 in /usr/local/lib/python3.6/dist-packages (from tensorflow_datasets) (3.10.0)\n",
            "Requirement already satisfied, skipping upgrade: promise in /usr/local/lib/python3.6/dist-packages (from tensorflow_datasets) (2.3)\n",
            "Requirement already satisfied, skipping upgrade: attrs>=18.1.0 in /usr/local/lib/python3.6/dist-packages (from tensorflow_datasets) (19.3.0)\n",
            "Requirement already satisfied, skipping upgrade: dill in /usr/local/lib/python3.6/dist-packages (from tensorflow_datasets) (0.3.1.1)\n",
            "Requirement already satisfied, skipping upgrade: termcolor in /usr/local/lib/python3.6/dist-packages (from tensorflow_datasets) (1.1.0)\n",
            "Requirement already satisfied, skipping upgrade: googleapis-common-protos in /usr/local/lib/python3.6/dist-packages (from tensorflow-metadata->tensorflow_datasets) (1.51.0)\n",
            "Requirement already satisfied, skipping upgrade: chardet<3.1.0,>=3.0.2 in /usr/local/lib/python3.6/dist-packages (from requests>=2.19.0->tensorflow_datasets) (3.0.4)\n",
            "Requirement already satisfied, skipping upgrade: idna<2.9,>=2.5 in /usr/local/lib/python3.6/dist-packages (from requests>=2.19.0->tensorflow_datasets) (2.8)\n",
            "Requirement already satisfied, skipping upgrade: urllib3<1.25,>=1.21.1 in /usr/local/lib/python3.6/dist-packages (from requests>=2.19.0->tensorflow_datasets) (1.24.3)\n",
            "Requirement already satisfied, skipping upgrade: certifi>=2017.4.17 in /usr/local/lib/python3.6/dist-packages (from requests>=2.19.0->tensorflow_datasets) (2020.4.5.1)\n",
            "Requirement already satisfied, skipping upgrade: setuptools in /usr/local/lib/python3.6/dist-packages (from protobuf>=3.6.1->tensorflow_datasets) (46.1.3)\n",
            "Installing collected packages: tensorflow-datasets\n",
            "  Found existing installation: tensorflow-datasets 2.1.0\n",
            "    Uninstalling tensorflow-datasets-2.1.0:\n",
            "      Successfully uninstalled tensorflow-datasets-2.1.0\n",
            "Successfully installed tensorflow-datasets-3.1.0\n"
          ],
          "name": "stdout"
        }
      ]
    },
    {
      "cell_type": "code",
      "metadata": {
        "id": "bcIPgfyPyyrX",
        "colab_type": "code",
        "colab": {}
      },
      "source": [
        "import tensorflow as tf\n",
        "import numpy as np\n",
        "import matplotlib.pyplot as plt\n",
        "import math"
      ],
      "execution_count": 0,
      "outputs": []
    },
    {
      "cell_type": "code",
      "metadata": {
        "id": "8Km6Qbz4y9fM",
        "colab_type": "code",
        "colab": {}
      },
      "source": [
        "import tensorflow_datasets as tfds"
      ],
      "execution_count": 0,
      "outputs": []
    },
    {
      "cell_type": "code",
      "metadata": {
        "id": "NkU5YMinzQv1",
        "colab_type": "code",
        "colab": {}
      },
      "source": [
        "import logging\n",
        "logger = tf.get_logger()\n",
        "logger.setLevel(logging.ERROR)"
      ],
      "execution_count": 0,
      "outputs": []
    },
    {
      "cell_type": "code",
      "metadata": {
        "id": "k8L4_CkrzZhe",
        "colab_type": "code",
        "colab": {}
      },
      "source": [
        "dataset, metadata = tfds.load('fashion_mnist', as_supervised=True, with_info=True)\n",
        "train_dataset, test_dataset = dataset['train'], dataset['test']\n",
        "\n"
      ],
      "execution_count": 0,
      "outputs": []
    },
    {
      "cell_type": "code",
      "metadata": {
        "id": "MyXx-SNWzeJQ",
        "colab_type": "code",
        "colab": {}
      },
      "source": [
        "class_names = ['T-shirt/top', 'Trouser', 'Pullover', 'Dress', 'Coat',\n",
        "               'Sandal',      'Shirt',   'Sneaker',  'Bag',   'Ankle boot']"
      ],
      "execution_count": 0,
      "outputs": []
    },
    {
      "cell_type": "code",
      "metadata": {
        "id": "BYWavA2G0Ch6",
        "colab_type": "code",
        "colab": {
          "base_uri": "https://localhost:8080/",
          "height": 608
        },
        "outputId": "46b8527d-0ad2-4553-f3b8-366860e97286"
      },
      "source": [
        "print(metadata)"
      ],
      "execution_count": 7,
      "outputs": [
        {
          "output_type": "stream",
          "text": [
            "tfds.core.DatasetInfo(\n",
            "    name='fashion_mnist',\n",
            "    version=3.0.1,\n",
            "    description='Fashion-MNIST is a dataset of Zalando's article images consisting of a training set of 60,000 examples and a test set of 10,000 examples. Each example is a 28x28 grayscale image, associated with a label from 10 classes.',\n",
            "    homepage='https://github.com/zalandoresearch/fashion-mnist',\n",
            "    features=FeaturesDict({\n",
            "        'image': Image(shape=(28, 28, 1), dtype=tf.uint8),\n",
            "        'label': ClassLabel(shape=(), dtype=tf.int64, num_classes=10),\n",
            "    }),\n",
            "    total_num_examples=70000,\n",
            "    splits={\n",
            "        'test': 10000,\n",
            "        'train': 60000,\n",
            "    },\n",
            "    supervised_keys=('image', 'label'),\n",
            "    citation=\"\"\"@article{DBLP:journals/corr/abs-1708-07747,\n",
            "      author    = {Han Xiao and\n",
            "                   Kashif Rasul and\n",
            "                   Roland Vollgraf},\n",
            "      title     = {Fashion-MNIST: a Novel Image Dataset for Benchmarking Machine Learning\n",
            "                   Algorithms},\n",
            "      journal   = {CoRR},\n",
            "      volume    = {abs/1708.07747},\n",
            "      year      = {2017},\n",
            "      url       = {http://arxiv.org/abs/1708.07747},\n",
            "      archivePrefix = {arXiv},\n",
            "      eprint    = {1708.07747},\n",
            "      timestamp = {Mon, 13 Aug 2018 16:47:27 +0200},\n",
            "      biburl    = {https://dblp.org/rec/bib/journals/corr/abs-1708-07747},\n",
            "      bibsource = {dblp computer science bibliography, https://dblp.org}\n",
            "    }\"\"\",\n",
            "    redistribution_info=,\n",
            ")\n",
            "\n"
          ],
          "name": "stdout"
        }
      ]
    },
    {
      "cell_type": "code",
      "metadata": {
        "id": "nd2pQeuh0JOf",
        "colab_type": "code",
        "colab": {}
      },
      "source": [
        "test_len = metadata.splits['test'].num_examples\n",
        "train_len = metadata.splits['train'].num_examples"
      ],
      "execution_count": 0,
      "outputs": []
    },
    {
      "cell_type": "code",
      "metadata": {
        "id": "tHU2SSRY0nt9",
        "colab_type": "code",
        "colab": {
          "base_uri": "https://localhost:8080/",
          "height": 34
        },
        "outputId": "f2da4c00-20f8-4176-a041-d1ff7c9f7ba7"
      },
      "source": [
        "def normalize(data,labels):\n",
        "  data = tf.cast(data,tf.float32)\n",
        "  data/=255\n",
        "  return data,labels\n",
        "\n",
        "\n",
        "train_dataset = train_dataset.map(normalize)\n",
        "test_dataset = test_dataset.map(normalize)\n",
        "\n",
        "train_dataset = train_dataset.cache()\n",
        "test_dataset = test_dataset.cache()\n",
        "#Keep in memory\n",
        "print(train_dataset)"
      ],
      "execution_count": 21,
      "outputs": [
        {
          "output_type": "stream",
          "text": [
            "<MapDataset shapes: ((28, 28, 1), ()), types: (tf.float32, tf.int64)>\n"
          ],
          "name": "stdout"
        }
      ]
    },
    {
      "cell_type": "code",
      "metadata": {
        "id": "iPFnRuWj2UQW",
        "colab_type": "code",
        "colab": {}
      },
      "source": [
        ""
      ],
      "execution_count": 0,
      "outputs": []
    }
  ]
}